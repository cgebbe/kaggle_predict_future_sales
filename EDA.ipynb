version https://git-lfs.github.com/spec/v1
oid sha256:4324f8808059c42c4d482117c5e46ba3e4123750ccf9288950e8d75c5e78731e
size 25218899
